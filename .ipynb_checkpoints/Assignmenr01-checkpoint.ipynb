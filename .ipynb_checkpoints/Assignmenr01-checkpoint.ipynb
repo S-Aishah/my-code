{
 "cells": [
  {
   "cell_type": "code",
   "execution_count": 35,
   "id": "7af9064d",
   "metadata": {},
   "outputs": [
    {
     "data": {
      "text/plain": [
       "['20k', '40k', '50k', '60k', '35k', '89k', '40k']"
      ]
     },
     "execution_count": 35,
     "metadata": {},
     "output_type": "execute_result"
    }
   ],
   "source": [
    "salaries = ['20k', '40k', '50k', '60k', '35k', '89k','40k']\n",
    "salaries"
   ]
  },
  {
   "cell_type": "code",
   "execution_count": 23,
   "id": "3d59c3ff",
   "metadata": {},
   "outputs": [
    {
     "data": {
      "text/plain": [
       "7"
      ]
     },
     "execution_count": 23,
     "metadata": {},
     "output_type": "execute_result"
    }
   ],
   "source": [
    "#1. What is the length of the salaries list.\n",
    "len(salaries)"
   ]
  },
  {
   "cell_type": "code",
   "execution_count": 24,
   "id": "a8b8ba24",
   "metadata": {},
   "outputs": [
    {
     "data": {
      "text/plain": [
       "'50k'"
      ]
     },
     "execution_count": 24,
     "metadata": {},
     "output_type": "execute_result"
    }
   ],
   "source": [
    "#2. Retrieve the third salary in the list by using index.\n",
    "salaries[2]"
   ]
  },
  {
   "cell_type": "code",
   "execution_count": 25,
   "id": "8593a1ea",
   "metadata": {},
   "outputs": [
    {
     "data": {
      "text/plain": [
       "'40k'"
      ]
     },
     "execution_count": 25,
     "metadata": {},
     "output_type": "execute_result"
    }
   ],
   "source": [
    "#3. Extract the last salary from the list by using a negative index.\n",
    "salaries[-1]"
   ]
  },
  {
   "cell_type": "code",
   "execution_count": 26,
   "id": "4eea45ec",
   "metadata": {},
   "outputs": [
    {
     "data": {
      "text/plain": [
       "['50k', '60k', '35k']"
      ]
     },
     "execution_count": 26,
     "metadata": {},
     "output_type": "execute_result"
    }
   ],
   "source": [
    "#4. Slice the salaries list to get only the middle three salaries.\n",
    "salaries[2:5]"
   ]
  },
  {
   "cell_type": "code",
   "execution_count": 27,
   "id": "fb56901b",
   "metadata": {},
   "outputs": [
    {
     "data": {
      "text/plain": [
       "['20k', '40k', '50k', '60k', '35k', '89k', '40k', '100k']"
      ]
     },
     "execution_count": 27,
     "metadata": {},
     "output_type": "execute_result"
    }
   ],
   "source": [
    "#5. Add a new salary to the list, ‘100k’ by using append() method.\n",
    "salaries.append(\"100k\")\n",
    "salaries"
   ]
  },
  {
   "cell_type": "code",
   "execution_count": 28,
   "id": "83845f7e",
   "metadata": {},
   "outputs": [
    {
     "data": {
      "text/plain": [
       "['20k', '40k', '50k', '60k', '35k', '89k', '40k', '100k', '120k']"
      ]
     },
     "execution_count": 28,
     "metadata": {},
     "output_type": "execute_result"
    }
   ],
   "source": [
    "#5. Add a new salary to the list, ‘120k’ without method\n",
    "x = [\"120k\"]\n",
    "salaries = salaries + x\n",
    "salaries"
   ]
  },
  {
   "cell_type": "code",
   "execution_count": null,
   "id": "9a9ecbe9",
   "metadata": {},
   "outputs": [],
   "source": [
    "#6. Replace the third salary in the list with '55k' and print the updated list.\n"
   ]
  },
  {
   "cell_type": "code",
   "execution_count": 30,
   "id": "a8a33a8d",
   "metadata": {},
   "outputs": [
    {
     "data": {
      "text/plain": [
       "['20k', '40k', '55k', '60k', '35k', '89k', '40k', '100k', '120k']"
      ]
     },
     "execution_count": 30,
     "metadata": {},
     "output_type": "execute_result"
    }
   ],
   "source": [
    "salaries[2]=\"55k\"\n",
    "salaries"
   ]
  },
  {
   "cell_type": "code",
   "execution_count": 31,
   "id": "65a5ddad",
   "metadata": {},
   "outputs": [
    {
     "data": {
      "text/plain": [
       "2"
      ]
     },
     "execution_count": 31,
     "metadata": {},
     "output_type": "execute_result"
    }
   ],
   "source": [
    "#7. Count how many times '40k' appears in the list.\n",
    "salaries.count(\"40k\")"
   ]
  },
  {
   "cell_type": "code",
   "execution_count": 36,
   "id": "ec34e89a",
   "metadata": {},
   "outputs": [
    {
     "data": {
      "text/plain": [
       "['20k', '30k', '40k', '50k', '60k', '35k', '89k', '40k']"
      ]
     },
     "execution_count": 36,
     "metadata": {},
     "output_type": "execute_result"
    }
   ],
   "source": [
    "#8. Insert a new salary at the second position.\n",
    "salaries.insert(1,\"30k\")\n",
    "salaries"
   ]
  },
  {
   "cell_type": "code",
   "execution_count": 40,
   "id": "080b8d9c",
   "metadata": {},
   "outputs": [
    {
     "data": {
      "text/plain": [
       "['40k', '89k', '35k', '60k', '50k', '40k', '30k', '20k']"
      ]
     },
     "execution_count": 40,
     "metadata": {},
     "output_type": "execute_result"
    }
   ],
   "source": [
    "#9. Reverse the order of the salaries list with method.\n",
    "salaries.reverse()\n",
    "salaries"
   ]
  },
  {
   "cell_type": "code",
   "execution_count": 48,
   "id": "0c817d0e",
   "metadata": {},
   "outputs": [
    {
     "data": {
      "text/plain": [
       "['20k', '30k', '40k', '50k', '60k', '35k', '89k', '40k']"
      ]
     },
     "execution_count": 48,
     "metadata": {},
     "output_type": "execute_result"
    }
   ],
   "source": [
    "#10. Reverse the order of the salaries list without method.\n",
    "salaries[::-1]"
   ]
  },
  {
   "cell_type": "code",
   "execution_count": null,
   "id": "95814ec1",
   "metadata": {},
   "outputs": [],
   "source": []
  }
 ],
 "metadata": {
  "kernelspec": {
   "display_name": "Python 3 (ipykernel)",
   "language": "python",
   "name": "python3"
  },
  "language_info": {
   "codemirror_mode": {
    "name": "ipython",
    "version": 3
   },
   "file_extension": ".py",
   "mimetype": "text/x-python",
   "name": "python",
   "nbconvert_exporter": "python",
   "pygments_lexer": "ipython3",
   "version": "3.10.9"
  }
 },
 "nbformat": 4,
 "nbformat_minor": 5
}
