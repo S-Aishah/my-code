{
 "cells": [
  {
   "cell_type": "markdown",
   "id": "170d9f80-0bdf-4d32-9736-93e86857cc87",
   "metadata": {},
   "source": [
    "1. Write a Python function called add_numbers that takes two numbers as arguments and returns their sum. Then, test the function by calling it with two numbers of your choice."
   ]
  },
  {
   "cell_type": "code",
   "execution_count": 1,
   "id": "3ab571c3",
   "metadata": {},
   "outputs": [
    {
     "name": "stdout",
     "output_type": "stream",
     "text": [
      "12\n"
     ]
    }
   ],
   "source": [
    "def add_numbers(num1, num2):\n",
    "    return num1 + num2\n",
    "\n",
    "result = add_numbers(5, 7)\n",
    "print(result)\n"
   ]
  },
  {
   "cell_type": "markdown",
   "id": "7f9ede6d-db1d-4d2c-ac3c-c4e1a3653c30",
   "metadata": {},
   "source": [
    "2. Write a Python function count_vowels that accepts a string and returns the number of vowels (a, e, i, o, u) in that string.\n",
    "- Example: 'Orange'\n",
    "- Output: 3 vowels\n"
   ]
  },
  {
   "cell_type": "code",
   "execution_count": 2,
   "id": "9446608b",
   "metadata": {},
   "outputs": [
    {
     "name": "stdout",
     "output_type": "stream",
     "text": [
      "3 vowels\n"
     ]
    }
   ],
   "source": [
    "def count_vowels(s):\n",
    "    vowels = 'aeiouAEIOU'\n",
    "    count = 0\n",
    "    for char in s:\n",
    "        if char in vowels:\n",
    "            count += 1\n",
    "    return count\n",
    "\n",
    "result = count_vowels('Orange')\n",
    "print(f'{result} vowels')\n"
   ]
  },
  {
   "cell_type": "markdown",
   "id": "09ed52aa-b88e-4f30-a017-652d8de535cc",
   "metadata": {},
   "source": [
    "3. Create a Python function called currency_converter() that takes two arguments:\n",
    "\n",
    "- amount: The amount of money to be converted (in USD).\n",
    "- exchange_rate (default is 280): The conversion rate from USD to another currency (e.g., PKR). You can assume the default rate is 1 USD = 280 PKR.\n",
    "\n",
    "The function should return a message showing how much the given amount is worth in the target currency (PKR)."
   ]
  },
  {
   "cell_type": "code",
   "execution_count": 4,
   "id": "bd288d5b",
   "metadata": {},
   "outputs": [
    {
     "name": "stdout",
     "output_type": "stream",
     "text": [
      "The amount of 100 USD is equivalent to 28000 in the PKR.\n"
     ]
    }
   ],
   "source": [
    "def currency_converter(amount, exchange_rate=280):\n",
    "    converted_amount = amount * exchange_rate\n",
    "    return f\"The amount of {amount} USD is equivalent to {converted_amount} in the PKR.\"\n",
    "\n",
    "result = currency_converter(100)  # 100 USD\n",
    "print(result)\n",
    "\n"
   ]
  },
  {
   "cell_type": "markdown",
   "id": "80ee5bc1-0c50-4341-9c04-12c9706e3e2d",
   "metadata": {},
   "source": [
    "4. Write a Python function display_student_info that accepts the following details about a student:\n",
    "\n",
    "- name (Keyword argument): The name of the student.\n",
    "- age (Keyword argument): The age of the student.\n",
    "- grade (Keyword argument): The grade the student is in.\n",
    "- school (Keyword argument): The name of the school the student attends."
   ]
  },
  {
   "cell_type": "code",
   "execution_count": 7,
   "id": "cc0e4ede",
   "metadata": {},
   "outputs": [
    {
     "name": "stdout",
     "output_type": "stream",
     "text": [
      "Student Name: Mark\n",
      "Age: 15\n",
      "Grade: 10th\n",
      "School: ABC High School\n"
     ]
    }
   ],
   "source": [
    "def display_student_info(name, age, grade, school):\n",
    "    print(f\"Student Name: {name}\")\n",
    "    print(f\"Age: {age}\")\n",
    "    print(f\"Grade: {grade}\")\n",
    "    print(f\"School: {school}\")\n",
    "\n",
    "display_student_info(name=\"Mark\", age=15, grade=\"10th\", school=\"ABC High School\")\n"
   ]
  },
  {
   "cell_type": "markdown",
   "id": "0fe94f0f-cf3b-4122-8c18-204e74890214",
   "metadata": {},
   "source": [
    "5. Write a Python function calculate_price that accepts two positional arguments:\n",
    "\n",
    "- price: The price of a single item.\n",
    "- quantity: The number of items bought.\n",
    "- The function should return the total price by multiplying price and quantity."
   ]
  },
  {
   "cell_type": "code",
   "execution_count": 8,
   "id": "7183ec7e",
   "metadata": {},
   "outputs": [
    {
     "name": "stdout",
     "output_type": "stream",
     "text": [
      "The total price is: 46.5\n"
     ]
    }
   ],
   "source": [
    "def calculate_price(price, quantity):\n",
    "    total_price = price * quantity\n",
    "    return total_price\n",
    "\n",
    "total = calculate_price(15.50, 3)  # price = 15.50, quantity = 3\n",
    "print(f\"The total price is: {total}\")\n"
   ]
  },
  {
   "cell_type": "markdown",
   "id": "f296207b-8c2c-4fed-a439-55c62a4fad48",
   "metadata": {},
   "source": [
    "6. Write a Python function display_prices that takes a product name and an arbitrary number of keyword arguments representing product prices. The function should display each product and its price.\n",
    "\n",
    "- Product: Laptop\n",
    "- Amazon: $800\n",
    "\n",
    "- eBay: $750\n",
    "  \n",
    "- Walmart: $780\n"
   ]
  },
  {
   "cell_type": "code",
   "execution_count": 9,
   "id": "1304028b",
   "metadata": {
    "scrolled": true
   },
   "outputs": [
    {
     "name": "stdout",
     "output_type": "stream",
     "text": [
      "Product: Laptop\n",
      "Amazon: $800\n",
      "eBay: $750\n",
      "Walmart: $780\n"
     ]
    }
   ],
   "source": [
    "def display_prices(product, **prices):\n",
    "    print(f\"Product: {product}\")\n",
    "    for store, price in prices.items():\n",
    "        print(f\"{store}: ${price}\")\n",
    "\n",
    "display_prices(\"Laptop\", Amazon=800, eBay=750, Walmart=780)\n"
   ]
  },
  {
   "cell_type": "markdown",
   "id": "5f1c1d64-058b-4ace-ab15-ac1debdce1a0",
   "metadata": {},
   "source": [
    "7. Write a Python function find_max that takes any number of numerical arguments and returns the maximum number."
   ]
  },
  {
   "cell_type": "code",
   "execution_count": 10,
   "id": "2e47beb9",
   "metadata": {},
   "outputs": [
    {
     "name": "stdout",
     "output_type": "stream",
     "text": [
      "The maximum number is: 10\n"
     ]
    }
   ],
   "source": [
    "def find_max(*args):\n",
    "    if len(args) == 0:\n",
    "        return None  # Return None if no arguments are passed\n",
    "    return max(args)\n",
    "\n",
    "result = find_max(3, 7, 2, 10, 5)\n",
    "print(f\"The maximum number is: {result}\")\n"
   ]
  },
  {
   "cell_type": "markdown",
   "id": "133f4fd5-0f8d-4595-88c2-0cd7371c775b",
   "metadata": {},
   "source": [
    "8. Write a Python function display_info that takes:\n",
    "\n",
    "- Positional arguments for the name and age of a person.\n",
    "- Keyword arguments for other personal details like address, phone number, and email.\n",
    "\n",
    "Example Output:\n",
    "\n",
    "- Name: Alice\n",
    "- Age: 30\n",
    "- Other Details:\n",
    "    - address: 123 Main St\n",
    "    - phone: 123-456-7890\n",
    "    - email: alice@example.com\n"
   ]
  },
  {
   "cell_type": "code",
   "execution_count": 11,
   "id": "1d358ab3",
   "metadata": {},
   "outputs": [
    {
     "name": "stdout",
     "output_type": "stream",
     "text": [
      "Name: Alice\n",
      "Age: 30\n",
      "Other Details:\n",
      "address: 123 Main St\n",
      "phone: 123-456-7890\n",
      "email: alice@example.com\n"
     ]
    }
   ],
   "source": [
    "def display_info(name, age, **other_details):\n",
    "    print(f\"Name: {name}\")\n",
    "    print(f\"Age: {age}\")\n",
    "    print(\"Other Details:\")\n",
    "    for key, value in other_details.items():\n",
    "        print(f\"{key}: {value}\")\n",
    "\n",
    "display_info(\"Alice\", 30, address=\"123 Main St\", phone=\"123-456-7890\", email=\"alice@example.com\")\n"
   ]
  },
  {
   "cell_type": "markdown",
   "id": "ba32f7dd-8038-4e6d-a785-0244a500313c",
   "metadata": {},
   "source": [
    "9. Write a Python function calculate_rectangle that accepts the length and width of a rectangle as arguments. Inside this function, create two nested functions:\n",
    "\n",
    "- calculate_area: This function should calculate the area of the rectangle.\n",
    "- calculate_perimeter: This function should calculate the perimeter of the rectangle.\n",
    "- The main function should return both the area and the perimeter of the rectangle."
   ]
  },
  {
   "cell_type": "code",
   "execution_count": 12,
   "id": "073557c8",
   "metadata": {},
   "outputs": [
    {
     "name": "stdout",
     "output_type": "stream",
     "text": [
      "Area: 15\n",
      "Perimeter: 16\n"
     ]
    }
   ],
   "source": [
    "def calculate_rectangle(length, width):\n",
    "    # Nested function to calculate the area of the rectangle\n",
    "    def calculate_area():\n",
    "        return length * width\n",
    "    \n",
    "    # Nested function to calculate the perimeter of the rectangle\n",
    "    def calculate_perimeter():\n",
    "        return 2 * (length + width)\n",
    "    \n",
    "    # Return both area and perimeter\n",
    "    area = calculate_area()\n",
    "    perimeter = calculate_perimeter()\n",
    "    return area, perimeter\n",
    "\n",
    "area, perimeter = calculate_rectangle(5, 3)\n",
    "print(f\"Area: {area}\")\n",
    "print(f\"Perimeter: {perimeter}\")\n"
   ]
  },
  {
   "cell_type": "markdown",
   "id": "ff60a2fd-df19-4d11-ae27-27443c000e5a",
   "metadata": {},
   "source": [
    "Q 10.\n",
    "\n",
    "products = [\n",
    "    {\"name\": \"Laptop\", \"price\": 1200, \"in_stock\": True, \"discount\": 0.1},\n",
    "    {\"name\": \"Smartphone\", \"price\": 800, \"in_stock\": False, \"discount\": 0.05},\n",
    "    {\"name\": \"Headphones\", \"price\": 150, \"in_stock\": True, \"discount\": 0.2},\n",
    "    {\"name\": \"Smartwatch\", \"price\": 300, \"in_stock\": True, \"discount\": 0},\n",
    "    {\"name\": \"Keyboard\", \"price\": 100, \"in_stock\": True, \"discount\": 0.15}\n",
    "]\n",
    "\n",
    "- Get names of in-stock products:\n",
    "\n",
    "  *Use list comprehension to generate a list of names for the products that are in stock.\n",
    "                                            \n",
    "- Calculate final prices for in-stock products after discount:\n",
    "\n",
    "    *For products that have a discount, calculate the final price by applying the discount.\n",
    "\n",
    "  \n",
    "    *For products with no discount, keep the original price.\n",
    "                                            \n",
    "- Generate a list of tuples with the product name and its final price.\n",
    "\n",
    "Example Output:\n",
    "\n",
    "- In-stock product names: ['Laptop', 'Headphones', 'Smartwatch', 'Keyboard']\n",
    "- Discounted prices: [('Laptop', 1080.0), ('Headphones', 120.0), ('Smartwatch', 300), ('Keyboard', 85.0)]\n"
   ]
  },
  {
   "cell_type": "code",
   "execution_count": 13,
   "id": "6f4ae3e6",
   "metadata": {},
   "outputs": [
    {
     "name": "stdout",
     "output_type": "stream",
     "text": [
      "In-stock product names: ['Laptop', 'Headphones', 'Smartwatch', 'Keyboard']\n",
      "Discounted prices: [('Laptop', 1080.0), ('Headphones', 120.0), ('Smartwatch', 300), ('Keyboard', 85.0)]\n"
     ]
    }
   ],
   "source": [
    "products = [\n",
    "    {\"name\": \"Laptop\", \"price\": 1200, \"in_stock\": True, \"discount\": 0.1},\n",
    "    {\"name\": \"Smartphone\", \"price\": 800, \"in_stock\": False, \"discount\": 0.05},\n",
    "    {\"name\": \"Headphones\", \"price\": 150, \"in_stock\": True, \"discount\": 0.2},\n",
    "    {\"name\": \"Smartwatch\", \"price\": 300, \"in_stock\": True, \"discount\": 0},\n",
    "    {\"name\": \"Keyboard\", \"price\": 100, \"in_stock\": True, \"discount\": 0.15}\n",
    "]\n",
    "\n",
    "# Get names of in-stock products using list comprehension\n",
    "in_stock_names = [product[\"name\"] for product in products if product[\"in_stock\"]]\n",
    "\n",
    "# Calculate final prices for in-stock products after discount\n",
    "discounted_prices = [\n",
    "    (product[\"name\"], product[\"price\"] * (1 - product[\"discount\"]) if product[\"discount\"] > 0 else product[\"price\"])\n",
    "    for product in products if product[\"in_stock\"]\n",
    "]\n",
    "\n",
    "# Output\n",
    "print(f\"In-stock product names: {in_stock_names}\")\n",
    "print(f\"Discounted prices: {discounted_prices}\")\n"
   ]
  },
  {
   "cell_type": "code",
   "execution_count": null,
   "id": "258c9536-f80f-479a-a01d-92936f9d3a3f",
   "metadata": {},
   "outputs": [],
   "source": []
  }
 ],
 "metadata": {
  "kernelspec": {
   "display_name": "Python 3 (ipykernel)",
   "language": "python",
   "name": "python3"
  },
  "language_info": {
   "codemirror_mode": {
    "name": "ipython",
    "version": 3
   },
   "file_extension": ".py",
   "mimetype": "text/x-python",
   "name": "python",
   "nbconvert_exporter": "python",
   "pygments_lexer": "ipython3",
   "version": "3.10.9"
  }
 },
 "nbformat": 4,
 "nbformat_minor": 5
}
