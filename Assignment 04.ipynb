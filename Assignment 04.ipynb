{
 "cells": [
  {
   "cell_type": "code",
   "execution_count": 13,
   "id": "706fbffe",
   "metadata": {},
   "outputs": [
    {
     "name": "stdout",
     "output_type": "stream",
     "text": [
      "(1, 2, 3)\n",
      "[4, 5, 6]\n",
      "('apple', 'banana', 'cherry')\n",
      "[7, 8, 9]\n"
     ]
    },
    {
     "data": {
      "text/plain": [
       "(1, 2, 3, 7, 8, 9)"
      ]
     },
     "execution_count": 13,
     "metadata": {},
     "output_type": "execute_result"
    }
   ],
   "source": [
    "my_tuple = ( (1, 2, 3), [4, 5, 6], (\"apple\",\"banana\",\"cherry\"), [7, 8, 9] )\n",
    "\n",
    "# • Print all elements from my_tuple on a new line (using for loop)\n",
    "# • Create a new tuple by concatenating the first and last elements of my_tuple\n",
    "\n",
    "for elements in my_tuple: #printing all elements\n",
    "    print(elements)\n",
    "    \n",
    "new_tuple = (my_tuple[0] + tuple(my_tuple[3])) #concatenating\n",
    "new_tuple\n",
    "\n"
   ]
  },
  {
   "cell_type": "code",
   "execution_count": 21,
   "id": "8201df98",
   "metadata": {},
   "outputs": [
    {
     "name": "stdout",
     "output_type": "stream",
     "text": [
      "dict_keys(['The Great Gatsby', 'Rich dad poor dad', 'Harry Potter'])\n",
      "{'The Great Gatsby': {'price': 10.99, 'quantity': 5}, 'Rich dad poor dad': {'price': 8.99, 'quantity': 8}, 'Harry Potter': {'price': 12.5, 'quantity': 2}}\n"
     ]
    }
   ],
   "source": [
    "inventory = { 'The Great Gatsby': {\"price\": 10.99, 'quantity': 5}, 'Rich dad poor dad': {'price':\n",
    "8.99, 'quantity': 8}, 'Harry Potter': {'price': 12.50, 'quantity': 2}, }\n",
    "\n",
    "# • Add a new book in inventory using method and get all book titles using method\n",
    "# • Remove a book if it's out of stock\n",
    "\n",
    "print(inventory.keys()) #get title by method\n",
    "for book in inventory:\n",
    "    if inventory[book]['quantity'] < 1:\n",
    "        del inventory[book] # Remove the book from the inventory\n",
    "print(inventory)"
   ]
  },
  {
   "cell_type": "code",
   "execution_count": 33,
   "id": "19cc0e20",
   "metadata": {},
   "outputs": [
    {
     "data": {
      "text/plain": [
       "{101: {'name': 'Laptop',\n",
       "  'category': 'Electronics',\n",
       "  'price': 1200,\n",
       "  'stock': 50},\n",
       " 102: {'name': 'Shirt', 'category': 'Apparel', 'price': 25, 'stock': 250},\n",
       " 103: {'name': 'Coffee Maker',\n",
       "  'category': 'Home Appliance',\n",
       "  'price': 80,\n",
       "  'stock&': 30},\n",
       " 104: {'name': 'Smartphone',\n",
       "  'category': 'Electronics',\n",
       "  'price': 700,\n",
       "  'stock': 100}}"
      ]
     },
     "execution_count": 33,
     "metadata": {},
     "output_type": "execute_result"
    }
   ],
   "source": [
    "# An ecommerce store stores information about its products in a nested dictionary. The outer\n",
    "# dictionary uses product IDs as keys, and the inner dictionary stores product details like name,\n",
    "# category, price, and stock quantity.\n",
    "products = { 101: {'name': 'Laptop','category': 'Electronics', 'price': 1200, 'stock': 50}, 102:\n",
    "{'name': 'Shirt', 'category': 'Apparel', 'price': 25, 'stock': 200}, 103: {'name': 'Coffee Maker',\n",
    "'category': 'Home Appliance', 'price': 80, 'stock&': 30} }\n",
    "# • Increase the stock of the 'Shirt' product (add 50 more units)\n",
    "# • Add a new product (e.g., 'Smartphone')\n",
    "products[102]['stock'] += 50 #increasing stock \n",
    "products[104] = {\n",
    "    'name': 'Smartphone',          #adding product\n",
    "    'category': 'Electronics',\n",
    "    'price': 700,\n",
    "    'stock': 100\n",
    "}\n",
    "products"
   ]
  },
  {
   "cell_type": "code",
   "execution_count": 39,
   "id": "2dd634c2",
   "metadata": {},
   "outputs": [
    {
     "data": {
      "text/plain": [
       "['grape', 'apple', 'banana', 'orange']"
      ]
     },
     "execution_count": 39,
     "metadata": {},
     "output_type": "execute_result"
    }
   ],
   "source": [
    "# You are given a list that contains some duplicate items. Remove the duplicates by converting the\n",
    "# list to a set.\n",
    "shopping_list = ['apple', 'banana', 'apple', 'orange', 'banana', 'grape']\n",
    "updated_shopping_list = list(set(shopping_list)) # Convert the list to a set to remove duplicates, and then convert it back to a list\n",
    "updated_shopping_list"
   ]
  },
  {
   "cell_type": "code",
   "execution_count": 41,
   "id": "8981e14f",
   "metadata": {},
   "outputs": [
    {
     "name": "stdout",
     "output_type": "stream",
     "text": [
      "600\n"
     ]
    }
   ],
   "source": [
    "# Write a Python program that calculates the sum of all even numbers between 1 and 50\n",
    "# (inclusive) using a for loop.\n",
    "sum = 0\n",
    "for even_num in range(50):\n",
    "    if even_num % 2 == 0:\n",
    "        sum+=even_num\n",
    "print(sum)"
   ]
  },
  {
   "cell_type": "code",
   "execution_count": 56,
   "id": "7fb53205",
   "metadata": {},
   "outputs": [
    {
     "name": "stdout",
     "output_type": "stream",
     "text": [
      "enter a number: 4\n",
      " 4 * 1 = 4\n",
      " 4 * 2 = 8\n",
      " 4 * 3 = 12\n",
      " 4 * 4 = 16\n",
      " 4 * 5 = 20\n",
      " 4 * 6 = 24\n",
      " 4 * 7 = 28\n",
      " 4 * 8 = 32\n",
      " 4 * 9 = 36\n",
      " 4 * 10 = 40\n"
     ]
    }
   ],
   "source": [
    "# Write a Python program that prints the multiplication table for a given number (between 1 and\n",
    "# 10) using a for loop.\n",
    "num = int(input('enter a number: '))\n",
    "for i in range(1,11):\n",
    "    result = num*i\n",
    "    print(f\" {num} * {i} = {result}\")"
   ]
  },
  {
   "cell_type": "code",
   "execution_count": null,
   "id": "6f04d2c7",
   "metadata": {},
   "outputs": [],
   "source": []
  }
 ],
 "metadata": {
  "kernelspec": {
   "display_name": "Python 3 (ipykernel)",
   "language": "python",
   "name": "python3"
  },
  "language_info": {
   "codemirror_mode": {
    "name": "ipython",
    "version": 3
   },
   "file_extension": ".py",
   "mimetype": "text/x-python",
   "name": "python",
   "nbconvert_exporter": "python",
   "pygments_lexer": "ipython3",
   "version": "3.10.9"
  }
 },
 "nbformat": 4,
 "nbformat_minor": 5
}
