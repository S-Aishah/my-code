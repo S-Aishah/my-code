{
 "cells": [
  {
   "cell_type": "code",
   "execution_count": 13,
   "id": "703c61ae",
   "metadata": {},
   "outputs": [
    {
     "name": "stdout",
     "output_type": "stream",
     "text": [
      "Enter your age: 56\n",
      "your age is 56\n",
      "you're an adult\n"
     ]
    }
   ],
   "source": [
    "#Question 01:\n",
    "age = int(input(\"Enter your age: \"))\n",
    "print(\"your age is \" + str(age))\n",
    "if 0< age <=12:\n",
    "    print(\"you're a child\")\n",
    "elif 12< age <=19:\n",
    "    print(\"you're a teenager\")\n",
    "elif 19< age <=64:\n",
    "    print(\"you're an adult\")\n",
    "elif age>=65:\n",
    "    print(\"you're a senior\")\n",
    "else:\n",
    "    print(\"please enter your correct age\")"
   ]
  },
  {
   "cell_type": "code",
   "execution_count": 31,
   "id": "0056ab73",
   "metadata": {},
   "outputs": [
    {
     "name": "stdout",
     "output_type": "stream",
     "text": [
      "please enter your member ship status: Regular\n",
      "Enter purchase amount: 3000\n",
      "Eligible for discount.\n"
     ]
    }
   ],
   "source": [
    "#Question 02:Checking for Eligibility for Discount\n",
    "membership_status = input(\"please enter your member ship status: \")\n",
    "amount =  int(input(\"Enter purchase amount: \"))\n",
    "status = membership_status.lower()\n",
    "if status == \"premium\" and amount >= 1000:\n",
    "    print(\"Eligible for discount\")\n",
    "elif status == \"regular\" and amount >= 2000:\n",
    "    print(\"Eligible for discount.\")\n",
    "else:\n",
    "    print(\"Not eligible for discount.\")"
   ]
  },
  {
   "cell_type": "code",
   "execution_count": 36,
   "id": "5acab9f5",
   "metadata": {},
   "outputs": [
    {
     "name": "stdout",
     "output_type": "stream",
     "text": [
      "Your Age: 14\n",
      "Please enter citizen or non-citizen: Citizen\n",
      "not eligible to vote\n"
     ]
    }
   ],
   "source": [
    "#Question 03\": \n",
    "age = int(input(\"Your Age: \"))\n",
    "citizenship_status = input(\"Please enter citizen or non-citizen: \")\n",
    "citizenship = citizenship_status.lower()\n",
    "if  age >= 16 and citizenship == \"citizen\":\n",
    "    print(\"Eligible to vote\")\n",
    "elif age<16 or citizenship == \"non-citizen\":\n",
    "    print(\"not eligible to vote\")\n",
    "else:\n",
    "    print(\"please enter citizenship_status as citizen or non-citizen\" )"
   ]
  },
  {
   "cell_type": "code",
   "execution_count": null,
   "id": "c8f91552",
   "metadata": {},
   "outputs": [],
   "source": []
  }
 ],
 "metadata": {
  "kernelspec": {
   "display_name": "Python 3 (ipykernel)",
   "language": "python",
   "name": "python3"
  },
  "language_info": {
   "codemirror_mode": {
    "name": "ipython",
    "version": 3
   },
   "file_extension": ".py",
   "mimetype": "text/x-python",
   "name": "python",
   "nbconvert_exporter": "python",
   "pygments_lexer": "ipython3",
   "version": "3.10.9"
  }
 },
 "nbformat": 4,
 "nbformat_minor": 5
}
